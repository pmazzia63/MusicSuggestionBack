{
 "cells": [
  {
   "cell_type": "code",
   "execution_count": 1,
   "metadata": {},
   "outputs": [
    {
     "name": "stdout",
     "output_type": "stream",
     "text": [
      "amplify-amplifyreactapp-dev-231801-deployment\n",
      "amplify-amplifyreactapp-dev-231953-deployment\n",
      "amplify-amplifyreactapp-dev-232057-deployment\n",
      "amplify-musicsuggestionfront-staging-6a98f-deployment\n",
      "datauser\n"
     ]
    }
   ],
   "source": [
    "import boto3\n",
    "\n",
    "# Création d'un client S3\n",
    "s3 = boto3.client('s3')\n",
    "\n",
    "# Lister tous les buckets\n",
    "response = s3.list_buckets()\n",
    "\n",
    "# Affichage des noms des buckets\n",
    "for bucket in response['Buckets']:\n",
    "    print(bucket['Name'])"
   ]
  },
  {
   "cell_type": "code",
   "execution_count": 3,
   "metadata": {},
   "outputs": [],
   "source": [
    "# Create an S3 client\n",
    "s3 = boto3.client('s3')\n",
    "\n",
    "# Specify the file to upload\n",
    "filename = 'test_local.txt'\n",
    "bucket_name = 'datauser'\n",
    "\n",
    "# Upload the file\n",
    "s3.upload_file(filename, bucket_name, filename)\n"
   ]
  },
  {
   "cell_type": "code",
   "execution_count": null,
   "metadata": {},
   "outputs": [],
   "source": []
  }
 ],
 "metadata": {
  "kernelspec": {
   "display_name": "env",
   "language": "python",
   "name": "python3"
  },
  "language_info": {
   "codemirror_mode": {
    "name": "ipython",
    "version": 3
   },
   "file_extension": ".py",
   "mimetype": "text/x-python",
   "name": "python",
   "nbconvert_exporter": "python",
   "pygments_lexer": "ipython3",
   "version": "3.10.9"
  }
 },
 "nbformat": 4,
 "nbformat_minor": 2
}
