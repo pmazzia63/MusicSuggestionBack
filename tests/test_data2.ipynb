{
 "cells": [
  {
   "cell_type": "code",
   "execution_count": 2,
   "metadata": {},
   "outputs": [
    {
     "name": "stderr",
     "output_type": "stream",
     "text": [
      "/Users/mazziap/Developer/Code/music_suggestion/music-suggestion-back/music_api/utils.py:10: SettingWithCopyWarning: \n",
      "A value is trying to be set on a copy of a slice from a DataFrame.\n",
      "Try using .loc[row_indexer,col_indexer] = value instead\n",
      "\n",
      "See the caveats in the documentation: https://pandas.pydata.org/pandas-docs/stable/user_guide/indexing.html#returning-a-view-versus-a-copy\n",
      "  df['combined'] = df['artists'] + \" \" + df['track_name']\n"
     ]
    }
   ],
   "source": [
    "import os\n",
    "\n",
    "import pandas as pd\n",
    "\n",
    "from music_api.utils import find_similar_songs\n",
    "\n",
    "\n",
    "path_data = os.getcwd() + \"/../music_api/dataset.csv\"\n",
    "\n",
    "# Base de donnée pour les chansons\n",
    "df_songs = pd.read_csv(path_data, index_col=0)\n",
    "\n",
    "columns_to_keep = [\n",
    "    'artists', 'track_name', 'popularity',\n",
    "    'duration_ms', 'explicit', 'danceability', 'energy', 'key', 'loudness',\n",
    "    'mode', 'speechiness', 'acousticness', 'instrumentalness', 'liveness',\n",
    "    'valence', 'tempo', 'time_signature']\n",
    "\n",
    "df_songs = df_songs[columns_to_keep]\n",
    "\n",
    "# Indicateur d'enregistrement de l'utilisateur\n",
    "user_registered = True\n",
    "\n",
    "result = find_similar_songs(df_songs, 'Gen Hoshino', 'Comedy')\n"
   ]
  },
  {
   "cell_type": "code",
   "execution_count": 3,
   "metadata": {},
   "outputs": [
    {
     "data": {
      "text/plain": [
       "{'artists': {800: 'Gen Hoshino'}, 'track_name': {800: 'SUN'}}"
      ]
     },
     "execution_count": 3,
     "metadata": {},
     "output_type": "execute_result"
    }
   ],
   "source": [
    "result.drop_duplicates().to_dict()"
   ]
  },
  {
   "cell_type": "code",
   "execution_count": null,
   "metadata": {},
   "outputs": [],
   "source": []
  }
 ],
 "metadata": {
  "kernelspec": {
   "display_name": "env",
   "language": "python",
   "name": "python3"
  },
  "language_info": {
   "codemirror_mode": {
    "name": "ipython",
    "version": 3
   },
   "file_extension": ".py",
   "mimetype": "text/x-python",
   "name": "python",
   "nbconvert_exporter": "python",
   "pygments_lexer": "ipython3",
   "version": "3.10.9"
  }
 },
 "nbformat": 4,
 "nbformat_minor": 2
}
